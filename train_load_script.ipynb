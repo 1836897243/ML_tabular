{
 "cells": [
  {
   "cell_type": "code",
   "execution_count": null,
   "metadata": {},
   "outputs": [],
   "source": [
    "import subprocess\n",
    "import os\n",
    "from UitlsTools import try_mkdir\n",
    "\n",
    "\n",
    "#motivation/dataset_name/Models(MLP.ResNet)/Model of different feature\n",
    "dataset__names = ['airfoil_self_noise', 'california_housing', 'combined_cycle_power_plant',\n",
    "                  'concrete_compressive_strength', 'physicochemical_properties_of_protein_tertiary_structure',\n",
    "                  'qsar_aquatic_toxicity', 'qsar_fish_toxicity','superconductivty_data', 'yacht_hydrodynamics']\n",
    "Model_kinds = ['MLP', 'ResNet']\n",
    "def eval_all_datasets(model_data_directory:str, datasets_directory:str, feature_num:int, eval_script_file:str):\n",
    "    for dataset_name in dataset__names:\n",
    "        dataset_dir = os.path.join(datasets_directory, dataset_name)\n",
    "        for model_kind in Model_kinds:\n",
    "            save_dir = os.path.join(model_data_directory, 'Data')\n",
    "            try_mkdir(save_dir)\n",
    "            models_dir = os.path.join(model_data_directory, dataset_name)\n",
    "            models_dir = os.path.join(models_dir, model_kind)\n",
    "            \n",
    "            save_file_name = dataset_name+'-'+model_kind+'--'+str(feature_num)\n",
    "            print(\"命令: \", eval_command)\n",
    "            eval_command = f'python {eval_script_file} --dataset_dir {dataset_dir} --models_dir {models_dir} --save_dir {save_dir} --save_file_name {save_file_name} --feature_num {feature_num}'\n",
    "            # to eval\n",
    "            result = subprocess.run(eval_command, shell=True, stdout=None, stderr=None)\n",
    "def train_all_datasets(save_data_dir:str, datasets_directory:str, feature_num:int, train_script_file:str, cuda: int):\n",
    "    try_mkdir(save_data_dir)\n",
    "    for dataset_name in dataset__names:\n",
    "        dataset_dir = os.path.join(datasets_directory, dataset_name)\n",
    "        dir2save = os.path.join(dataset_name, save_data_dir)\n",
    "        try_mkdir(dir2save)\n",
    "            for model_kind in Model_kinds:\n",
    "                train_command = f'Python {train_script_file} --dataset_dir {dataset_dir} --encoder_type {model_kind} --dir2save '\n",
    "    python ../../../Motivation_one_phase_train.py --dataset_dir ../../../dataset/regression/california_housing --encoder_type ResNet --dir2save $CURREMT_DIR --feature_list $i $j --cuda 2"
   ]
  }
 ],
 "metadata": {
  "language_info": {
   "name": "python"
  },
  "orig_nbformat": 4
 },
 "nbformat": 4,
 "nbformat_minor": 2
}
